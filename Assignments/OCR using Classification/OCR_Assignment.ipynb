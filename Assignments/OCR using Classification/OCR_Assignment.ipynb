{
 "cells": [
  {
   "cell_type": "code",
   "execution_count": 1,
   "id": "3e38c4ac",
   "metadata": {},
   "outputs": [],
   "source": [
    "import numpy as np\n",
    "import pandas as pd\n",
    "from matplotlib import pyplot as plt\n",
    "%matplotlib inline"
   ]
  },
  {
   "cell_type": "code",
   "execution_count": 2,
   "id": "2abfeb65",
   "metadata": {},
   "outputs": [
    {
     "name": "stdout",
     "output_type": "stream",
     "text": [
      "Shape of trainX: (500, 256)\n",
      "Shape of trainY: (500,)\n",
      "Shape of testX: (100, 256)\n",
      "Shape of testY: (100,)\n"
     ]
    }
   ],
   "source": [
    "# Load the training and testing data\n",
    "trainX = np.loadtxt('trainX.txt', dtype=np.uint8)\n",
    "testX = np.loadtxt('testX.txt', dtype=np.uint8)\n",
    "trainY = np.loadtxt('trainY.txt', dtype=np.uint8)\n",
    "testY = np.loadtxt('testY.txt', dtype=np.uint8)\n",
    "print(\"Shape of trainX:\", trainX.shape)\n",
    "print(\"Shape of trainY:\", trainY.shape)\n",
    "print(\"Shape of testX:\", testX.shape)\n",
    "print(\"Shape of testY:\", testY.shape)"
   ]
  },
  {
   "cell_type": "code",
   "execution_count": 3,
   "id": "ccd5e957",
   "metadata": {},
   "outputs": [
    {
     "name": "stdout",
     "output_type": "stream",
     "text": [
      "TrainX:    (500, 16, 16)\n",
      "TestX:    (100, 16, 16)\n",
      "Digit2_indices:    (250,)\n",
      "Digit4 indices:    (250,)\n",
      "Digit2 TrainX:    (250, 16, 16)\n",
      "Digit4 Train:    (250, 16, 16)\n"
     ]
    }
   ],
   "source": [
    "# Reshape the images from 1D to 2D (16x16)\n",
    "trainX = trainX.reshape(-1, 16, 16, order='F')\n",
    "testX = testX.reshape(-1, 16, 16, order='F')\n",
    "\n",
    "# Find indices of samples with label 2 and 4 in trainY\n",
    "digit2_indices = np.where(trainY == 2)[0]\n",
    "digit4_indices = np.where(trainY == 4)[0]\n",
    "\n",
    "# Use these indices to extract corresponding images\n",
    "digit2_train = trainX[digit2_indices]\n",
    "digit4_train = trainX[digit4_indices]\n",
    "print(\"TrainX:   \",trainX.shape)\n",
    "print(\"TestX:   \",testX.shape)\n",
    "print(\"Digit2_indices:   \",digit2_indices.shape)\n",
    "print(\"Digit4 indices:   \",digit4_indices.shape)\n",
    "print(\"Digit2 TrainX:   \",digit2_train.shape)\n",
    "print(\"Digit4 Train:   \",digit4_train.shape)"
   ]
  },
  {
   "cell_type": "code",
   "execution_count": 4,
   "id": "16e7e6db",
   "metadata": {},
   "outputs": [],
   "source": [
    "digit2_one_probability = digit2_train.sum(axis=0) / digit2_train.shape[0]\n",
    "digit2_zero_probability = 1 - digit2_one_probability\n",
    "\n",
    "digit4_one_probability = digit4_train.sum(axis=0) / digit4_train.shape[0]\n",
    "digit4_zero_probability = 1 - digit4_one_probability"
   ]
  },
  {
   "cell_type": "code",
   "execution_count": 5,
   "id": "092e8506",
   "metadata": {},
   "outputs": [],
   "source": [
    "# Predict the labels for test data \n",
    "\n",
    "def predict_labels(test_data):\n",
    "    # Calculate likelihood for digit 2\n",
    "    probability_digit2 = np.prod(test_data * digit2_one_probability + (1-test_data) * digit2_zero_probability, axis=(1, 2))\n",
    "\n",
    "    # Calculate likelihood for digit 4\n",
    "    probability_digit4 = np.prod(test_data * digit4_one_probability + (1-test_data) * digit4_zero_probability, axis=(1, 2))\n",
    "\n",
    "    # Compare the likelihoods and make predictions\n",
    "    predicted_labels = np.where(probability_digit2 > probability_digit4, 2, 4)\n",
    " \n",
    "    return predicted_labels\n",
    "\n",
    "predicted_labels = predict_labels(testX)\n"
   ]
  },
  {
   "cell_type": "code",
   "execution_count": 6,
   "id": "b1c47c54",
   "metadata": {},
   "outputs": [
    {
     "name": "stdout",
     "output_type": "stream",
     "text": [
      "Overall Accuracy: 100.00%\n",
      "Training Accuracy for Digit 2: 100.00%\n",
      "Test Accuracy for Digit 2: 100.00%\n",
      "Training Accuracy for Digit 4: 100.00%\n",
      "Test Accuracy for Digit 4: 100.00%\n"
     ]
    },
    {
     "data": {
      "image/png": "[encoded data removed]",
      "text/plain": [
       "<Figure size 640x480 with 1 Axes>"
      ]
     },
     "metadata": {},
     "output_type": "display_data"
    }
   ],
   "source": [
    "# Calculate the overall accuracy\n",
    "overall_accuracy = (predicted_labels == testY).mean()\n",
    "print(f\"Overall Accuracy: {overall_accuracy * 100:.2f}%\")\n",
    "\n",
    "# Calculate training accuracy for digit 2\n",
    "train_digit2_accuracy = (trainY[:250] == 2).mean()\n",
    "print(f\"Training Accuracy for Digit 2: {train_digit2_accuracy * 100:.2f}%\")\n",
    "\n",
    "# Calculate test accuracy for digit 2\n",
    "test_digit2_accuracy = (predicted_labels[testY == 2] == 2).mean()\n",
    "print(f\"Test Accuracy for Digit 2: {test_digit2_accuracy * 100:.2f}%\")\n",
    "\n",
    "# Calculate training accuracy for digit 4\n",
    "train_digit4_accuracy = (trainY[250:] == 4).mean()\n",
    "print(f\"Training Accuracy for Digit 4: {train_digit4_accuracy * 100:.2f}%\")\n",
    "\n",
    "# Calculate test accuracy for digit 4\n",
    "test_digit4_accuracy = (predicted_labels[testY == 4] == 4).mean()\n",
    "print(f\"Test Accuracy for Digit 4: {test_digit4_accuracy * 100:.2f}%\")\n",
    "\n",
    "predicted_label = predicted_labels[99]\n",
    "\n",
    "# Show the image using pyplot\n",
    "from matplotlib import pyplot as plt\n",
    "plt.imshow(testX[99], cmap='gray')\n",
    "plt.title(f'Predicted Label: {predicted_label}')\n",
    "plt.show()"
   ]
  },
  {
   "cell_type": "code",
   "execution_count": null,
   "id": "947e2ef4",
   "metadata": {},
   "outputs": [],
   "source": []
  }
 ],
 "metadata": {
  "kernelspec": {
   "display_name": "Python 3 (ipykernel)",
   "language": "python",
   "name": "python3"
  },
  "language_info": {
   "codemirror_mode": {
    "name": "ipython",
    "version": 3
   },
   "file_extension": ".py",
   "mimetype": "text/x-python",
   "name": "python",
   "nbconvert_exporter": "python",
   "pygments_lexer": "ipython3",
   "version": "3.11.5"
  }
 },
 "nbformat": 4,
 "nbformat_minor": 5
}
