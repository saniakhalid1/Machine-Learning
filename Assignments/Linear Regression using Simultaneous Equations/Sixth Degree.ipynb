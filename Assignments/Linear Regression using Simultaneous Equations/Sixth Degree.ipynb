{
 "cells": [
  {
   "cell_type": "code",
   "execution_count": 1,
   "id": "6a1b5755",
   "metadata": {},
   "outputs": [],
   "source": [
    "import pandas as pd\n",
    "import matplotlib.pyplot as plt\n",
    "import numpy as np\n",
    "%matplotlib inline"
   ]
  },
  {
   "cell_type": "code",
   "execution_count": 2,
   "id": "cf1f4082",
   "metadata": {},
   "outputs": [],
   "source": [
    "Traindata = pd.read_csv('trainRegression.csv') \n",
    "Testdata = pd.read_csv('testRegression.csv')"
   ]
  },
  {
   "cell_type": "code",
   "execution_count": 3,
   "id": "095787fe",
   "metadata": {},
   "outputs": [
    {
     "name": "stdout",
     "output_type": "stream",
     "text": [
      "      X       R\n",
      "0  0.01 -0.2730\n",
      "1  0.02 -0.1170\n",
      "2  0.03 -0.3090\n",
      "3  0.04  0.0306\n",
      "4  0.05 -0.0802\n",
      "     X      R\n",
      "0  0.0 -0.226\n",
      "1  0.1 -0.174\n",
      "2  0.2  0.459\n",
      "3  0.3  0.638\n",
      "4  0.4  0.869\n"
     ]
    }
   ],
   "source": [
    "print(Traindata.head())\n",
    "print(Testdata.head())"
   ]
  },
  {
   "cell_type": "code",
   "execution_count": 4,
   "id": "c4bf987c",
   "metadata": {},
   "outputs": [
    {
     "data": {
      "text/plain": [
       "(283, 2)"
      ]
     },
     "execution_count": 4,
     "metadata": {},
     "output_type": "execute_result"
    }
   ],
   "source": [
    "Traindata.shape"
   ]
  },
  {
   "cell_type": "code",
   "execution_count": 5,
   "id": "4c84e154",
   "metadata": {},
   "outputs": [
    {
     "data": {
      "text/plain": [
       "(32, 2)"
      ]
     },
     "execution_count": 5,
     "metadata": {},
     "output_type": "execute_result"
    }
   ],
   "source": [
    "Testdata.shape"
   ]
  },
  {
   "cell_type": "code",
   "execution_count": 6,
   "id": "c192963d",
   "metadata": {},
   "outputs": [
    {
     "data": {
      "text/plain": [
       "(0      0.01\n",
       " 1      0.02\n",
       " 2      0.03\n",
       " 3      0.04\n",
       " 4      0.05\n",
       "        ... \n",
       " 278    3.09\n",
       " 279    3.11\n",
       " 280    3.12\n",
       " 281    3.13\n",
       " 282    3.14\n",
       " Name: X, Length: 283, dtype: float64,\n",
       " 0     -0.27300\n",
       " 1     -0.11700\n",
       " 2     -0.30900\n",
       " 3      0.03060\n",
       " 4     -0.08020\n",
       "         ...   \n",
       " 278    0.35600\n",
       " 279    0.00649\n",
       " 280    0.27600\n",
       " 281    0.21000\n",
       " 282    0.32200\n",
       " Name: R, Length: 283, dtype: float64)"
      ]
     },
     "execution_count": 6,
     "metadata": {},
     "output_type": "execute_result"
    }
   ],
   "source": [
    "input = Traindata['X']\n",
    "output = Traindata['R']\n",
    "input, output"
   ]
  },
  {
   "cell_type": "code",
   "execution_count": 7,
   "id": "b46eb799",
   "metadata": {},
   "outputs": [
    {
     "data": {
      "text/plain": [
       "(array([0.01, 0.02, 0.03, 0.04, 0.05, 0.06, 0.07, 0.08, 0.09, 0.11, 0.12,\n",
       "        0.13, 0.14, 0.15, 0.16, 0.17, 0.18, 0.19, 0.21, 0.22, 0.23, 0.24,\n",
       "        0.25, 0.26, 0.27, 0.28, 0.29, 0.31, 0.32, 0.33, 0.34, 0.35, 0.36,\n",
       "        0.37, 0.38, 0.39, 0.41, 0.42, 0.43, 0.44, 0.45, 0.46, 0.47, 0.48,\n",
       "        0.49, 0.51, 0.52, 0.53, 0.54, 0.55, 0.56, 0.57, 0.58, 0.59, 0.61,\n",
       "        0.62, 0.63, 0.64, 0.65, 0.66, 0.67, 0.68, 0.69, 0.71, 0.72, 0.73,\n",
       "        0.74, 0.75, 0.76, 0.77, 0.78, 0.79, 0.81, 0.82, 0.83, 0.84, 0.85,\n",
       "        0.86, 0.87, 0.88, 0.89, 0.91, 0.92, 0.93, 0.94, 0.95, 0.96, 0.97,\n",
       "        0.98, 0.99, 1.01, 1.02, 1.03, 1.04, 1.05, 1.06, 1.07, 1.08, 1.09,\n",
       "        1.11, 1.12, 1.13, 1.14, 1.15, 1.16, 1.17, 1.18, 1.19, 1.21, 1.22,\n",
       "        1.23, 1.24, 1.25, 1.26, 1.27, 1.28, 1.29, 1.31, 1.32, 1.33, 1.34,\n",
       "        1.35, 1.36, 1.37, 1.38, 1.39, 1.41, 1.42, 1.43, 1.44, 1.45, 1.46,\n",
       "        1.47, 1.48, 1.49, 1.51, 1.52, 1.53, 1.54, 1.55, 1.56, 1.57, 1.58,\n",
       "        1.59, 1.61, 1.62, 1.63, 1.64, 1.65, 1.66, 1.67, 1.68, 1.69, 1.71,\n",
       "        1.72, 1.73, 1.74, 1.75, 1.76, 1.77, 1.78, 1.79, 1.81, 1.82, 1.83,\n",
       "        1.84, 1.85, 1.86, 1.87, 1.88, 1.89, 1.91, 1.92, 1.93, 1.94, 1.95,\n",
       "        1.96, 1.97, 1.98, 1.99, 2.01, 2.02, 2.03, 2.04, 2.05, 2.06, 2.07,\n",
       "        2.08, 2.09, 2.11, 2.12, 2.13, 2.14, 2.15, 2.16, 2.17, 2.18, 2.19,\n",
       "        2.21, 2.22, 2.23, 2.24, 2.25, 2.26, 2.27, 2.28, 2.29, 2.31, 2.32,\n",
       "        2.33, 2.34, 2.35, 2.36, 2.37, 2.38, 2.39, 2.41, 2.42, 2.43, 2.44,\n",
       "        2.45, 2.46, 2.47, 2.48, 2.49, 2.51, 2.52, 2.53, 2.54, 2.55, 2.56,\n",
       "        2.57, 2.58, 2.59, 2.61, 2.62, 2.63, 2.64, 2.65, 2.66, 2.67, 2.68,\n",
       "        2.69, 2.71, 2.72, 2.73, 2.74, 2.75, 2.76, 2.77, 2.78, 2.79, 2.81,\n",
       "        2.82, 2.83, 2.84, 2.85, 2.86, 2.87, 2.88, 2.89, 2.91, 2.92, 2.93,\n",
       "        2.94, 2.95, 2.96, 2.97, 2.98, 2.99, 3.01, 3.02, 3.03, 3.04, 3.05,\n",
       "        3.06, 3.07, 3.08, 3.09, 3.11, 3.12, 3.13, 3.14]),\n",
       " array([-0.273  , -0.117  , -0.309  ,  0.0306 , -0.0802 ,  0.243  ,\n",
       "         0.00638,  0.284  , -0.0904 ,  0.0295 ,  0.371  ,  0.499  ,\n",
       "         0.167  ,  0.621  ,  0.304  ,  0.373  ,  0.31   ,  0.276  ,\n",
       "         0.54   ,  0.403  , -0.0748 ,  0.913  ,  0.309  ,  0.903  ,\n",
       "         0.739  ,  0.0182 ,  0.57   ,  0.763  ,  0.74   ,  0.753  ,\n",
       "         0.712  ,  0.751  ,  1.02   ,  0.803  ,  0.679  ,  0.731  ,\n",
       "         0.749  ,  0.612  ,  0.575  ,  0.856  ,  1.     ,  1.08   ,\n",
       "         1.01   ,  0.698  ,  1.02   ,  0.851  ,  0.616  ,  1.16   ,\n",
       "         0.995  ,  1.1    ,  0.896  ,  0.991  ,  0.721  ,  0.683  ,\n",
       "         1.32   ,  1.04   ,  0.905  ,  0.873  ,  0.766  ,  1.24   ,\n",
       "         1.18   ,  1.08   ,  1.08   ,  1.22   ,  1.29   ,  0.799  ,\n",
       "         0.872  ,  1.24   ,  1.22   ,  1.22   ,  1.03   ,  1.05   ,\n",
       "         0.985  ,  1.26   ,  1.05   ,  1.03   ,  1.06   ,  0.641  ,\n",
       "         1.38   ,  0.856  ,  1.38   ,  1.07   ,  0.839  ,  1.25   ,\n",
       "         0.944  ,  0.917  ,  1.02   ,  1.12   ,  0.681  ,  0.606  ,\n",
       "         0.914  ,  0.495  ,  1.02   ,  0.701  ,  0.906  ,  1.03   ,\n",
       "         0.971  ,  0.639  ,  0.75   ,  0.976  ,  0.833  ,  1.01   ,\n",
       "         0.871  ,  0.775  ,  0.51   ,  0.696  ,  0.772  ,  0.816  ,\n",
       "         0.551  ,  0.777  ,  0.797  ,  0.53   ,  0.361  ,  0.487  ,\n",
       "         0.505  ,  0.571  , -0.231  ,  0.0332 ,  0.193  ,  0.0337 ,\n",
       "         0.17   ,  0.0429 ,  0.37   ,  0.557  ,  0.0704 ,  0.0926 ,\n",
       "         0.326  , -0.0721 ,  0.127  , -0.0489 ,  0.027  ,  0.145  ,\n",
       "         0.199  , -0.228  , -0.196  , -0.173  ,  0.071  , -0.183  ,\n",
       "        -0.258  , -0.583  , -0.204  , -0.0582 ,  0.0102 , -0.0451 ,\n",
       "        -0.389  ,  0.0168 , -0.793  , -0.0484 , -0.282  , -0.524  ,\n",
       "        -0.242  , -0.53   , -0.151  , -0.0864 , -0.475  , -0.638  ,\n",
       "        -0.654  , -0.71   , -0.647  , -0.978  , -0.472  , -0.451  ,\n",
       "        -0.775  , -0.617  , -0.758  , -0.717  , -0.554  , -0.562  ,\n",
       "        -0.959  , -0.524  , -0.853  , -1.28   , -1.05   , -0.779  ,\n",
       "        -0.938  , -1.18   , -0.619  , -0.507  , -0.877  , -0.782  ,\n",
       "        -0.977  , -1.03   , -0.772  , -0.925  , -0.994  , -0.998  ,\n",
       "        -0.904  , -0.719  , -0.85   , -0.722  , -0.92   , -1.06   ,\n",
       "        -1.11   , -0.886  , -0.794  , -0.902  , -0.877  , -1.15   ,\n",
       "        -1.45   , -0.667  , -1.2    , -0.931  , -0.755  , -0.986  ,\n",
       "        -1.31   , -1.36   , -0.739  , -0.934  , -0.803  , -0.723  ,\n",
       "        -0.916  , -0.876  , -0.963  , -0.935  , -1.05   , -1.06   ,\n",
       "        -1.03   , -0.918  , -0.818  , -0.918  , -0.736  , -0.955  ,\n",
       "        -0.642  , -1.09   , -0.853  , -1.02   , -1.04   , -0.74   ,\n",
       "        -0.886  , -0.966  , -0.778  , -0.793  , -0.849  , -1.     ,\n",
       "        -0.698  , -0.587  , -0.433  , -0.933  , -0.616  , -0.898  ,\n",
       "        -0.695  , -0.6    , -0.885  , -0.524  , -0.536  , -0.354  ,\n",
       "        -0.891  , -0.387  , -0.386  , -0.172  , -0.453  , -0.39   ,\n",
       "        -0.574  , -0.275  , -0.643  , -0.502  , -0.295  , -0.163  ,\n",
       "        -0.127  , -0.206  ,  0.158  , -0.345  ,  0.101  , -0.0363 ,\n",
       "         0.26   ,  0.0181 , -0.0743 ,  0.0249 ,  0.377  , -0.0138 ,\n",
       "        -0.345  , -0.159  , -0.21   , -0.0679 ,  0.0285 , -0.0138 ,\n",
       "        -0.184  ,  0.094  ,  0.356  ,  0.00649,  0.276  ,  0.21   ,\n",
       "         0.322  ]))"
      ]
     },
     "execution_count": 7,
     "metadata": {},
     "output_type": "execute_result"
    }
   ],
   "source": [
    "input_array = np.array(input)\n",
    "output_array = np.array(output)\n",
    "input_array, output_array"
   ]
  },
  {
   "cell_type": "code",
   "execution_count": 8,
   "id": "0f26ae0f",
   "metadata": {},
   "outputs": [
    {
     "name": "stdout",
     "output_type": "stream",
     "text": [
      "283 32\n"
     ]
    }
   ],
   "source": [
    "Length_Train = len(Traindata['X'])\n",
    "Length_Test = len(Testdata['X'])\n",
    "print(Length_Train, Length_Test)"
   ]
  },
  {
   "cell_type": "code",
   "execution_count": 9,
   "id": "fbeba450",
   "metadata": {},
   "outputs": [
    {
     "name": "stdout",
     "output_type": "stream",
     "text": [
      "444.95\n"
     ]
    }
   ],
   "source": [
    "Total_input = sum(np.array(input_array))\n",
    "print(Total_input)"
   ]
  },
  {
   "cell_type": "code",
   "execution_count": 10,
   "id": "e3126159",
   "metadata": {},
   "outputs": [
    {
     "name": "stdout",
     "output_type": "stream",
     "text": [
      "932.7465000000004\n"
     ]
    }
   ],
   "source": [
    "Square_input = sum((input_array**2))\n",
    "print(Square_input)"
   ]
  },
  {
   "cell_type": "code",
   "execution_count": 11,
   "id": "c76bf199",
   "metadata": {},
   "outputs": [
    {
     "name": "stdout",
     "output_type": "stream",
     "text": [
      "2199.781025\n"
     ]
    }
   ],
   "source": [
    "Cube_input = sum((input_array**3))\n",
    "print(Cube_input)"
   ]
  },
  {
   "cell_type": "code",
   "execution_count": 12,
   "id": "384f427b",
   "metadata": {},
   "outputs": [
    {
     "name": "stdout",
     "output_type": "stream",
     "text": [
      "5533.852576769998\n"
     ]
    }
   ],
   "source": [
    "Quad_input = sum((input_array**4))\n",
    "print(Quad_input)"
   ]
  },
  {
   "cell_type": "code",
   "execution_count": 13,
   "id": "a19fe6c1",
   "metadata": {},
   "outputs": [
    {
     "name": "stdout",
     "output_type": "stream",
     "text": [
      "14501.3382962825\n"
     ]
    }
   ],
   "source": [
    "Fifth_input = sum((input_array**5))\n",
    "print(Fifth_input)"
   ]
  },
  {
   "cell_type": "code",
   "execution_count": 14,
   "id": "985367cc",
   "metadata": {},
   "outputs": [
    {
     "name": "stdout",
     "output_type": "stream",
     "text": [
      "39086.488410584454\n"
     ]
    }
   ],
   "source": [
    "Sixth_input = sum((input_array**6))\n",
    "print(Sixth_input)"
   ]
  },
  {
   "cell_type": "code",
   "execution_count": 15,
   "id": "6f134477",
   "metadata": {},
   "outputs": [
    {
     "name": "stdout",
     "output_type": "stream",
     "text": [
      "107548.33620597137\n"
     ]
    }
   ],
   "source": [
    "Seventh_input = sum((input_array**7))\n",
    "print(Seventh_input)"
   ]
  },
  {
   "cell_type": "code",
   "execution_count": 16,
   "id": "68038b9b",
   "metadata": {},
   "outputs": [
    {
     "name": "stdout",
     "output_type": "stream",
     "text": [
      "300624.10659618396\n"
     ]
    }
   ],
   "source": [
    "Eighth_input = sum((input_array**8))\n",
    "print(Eighth_input)"
   ]
  },
  {
   "cell_type": "code",
   "execution_count": 17,
   "id": "084048ef",
   "metadata": {},
   "outputs": [
    {
     "name": "stdout",
     "output_type": "stream",
     "text": [
      "850829.605467627\n"
     ]
    }
   ],
   "source": [
    "Ninth_input = sum((input_array**9))\n",
    "print(Ninth_input)"
   ]
  },
  {
   "cell_type": "code",
   "execution_count": 18,
   "id": "5ca40d24",
   "metadata": {},
   "outputs": [
    {
     "name": "stdout",
     "output_type": "stream",
     "text": [
      "2432371.180654949\n"
     ]
    }
   ],
   "source": [
    "Tenth_input = sum((input_array**10))\n",
    "print(Tenth_input)"
   ]
  },
  {
   "cell_type": "code",
   "execution_count": 19,
   "id": "45916866",
   "metadata": {},
   "outputs": [
    {
     "name": "stdout",
     "output_type": "stream",
     "text": [
      "7011725.364394342\n"
     ]
    }
   ],
   "source": [
    "Eleventh_input = sum((input_array**11))\n",
    "print(Eleventh_input)"
   ]
  },
  {
   "cell_type": "code",
   "execution_count": 20,
   "id": "86f0b1c7",
   "metadata": {},
   "outputs": [
    {
     "name": "stdout",
     "output_type": "stream",
     "text": [
      "20354014.239801843\n"
     ]
    }
   ],
   "source": [
    "Twelve_input = sum((input_array**12))\n",
    "print(Twelve_input)"
   ]
  },
  {
   "cell_type": "code",
   "execution_count": 21,
   "id": "1d09d0da",
   "metadata": {},
   "outputs": [
    {
     "name": "stdout",
     "output_type": "stream",
     "text": [
      "[[284, 444.95, 932.7465000000004, 2199.781025, 5533.852576769998, 14501.3382962825, 39086.488410584454], [444.95, 932.7465000000004, 2199.781025, 5533.852576769998, 14501.3382962825, 39086.488410584454, 107548.33620597137], [932.7465000000004, 2199.781025, 5533.852576769998, 14501.3382962825, 39086.488410584454, 107548.33620597137, 300624.10659618396], [2199.781025, 5533.852576769998, 14501.3382962825, 39086.488410584454, 107548.33620597137, 300624.10659618396, 850829.605467627], [5533.852576769998, 14501.3382962825, 39086.488410584454, 107548.33620597137, 300624.10659618396, 850829.605467627, 2432371.180654949], [14501.3382962825, 39086.488410584454, 107548.33620597137, 300624.10659618396, 850829.605467627, 2432371.180654949, 7011725.364394342], [39086.488410584454, 107548.33620597137, 300624.10659618396, 850829.605467627, 2432371.180654949, 7011725.364394342, 20354014.239801843]]\n"
     ]
    }
   ],
   "source": [
    "A_Matrix = [[Length_Train+1, Total_input,Square_input, Cube_input, Quad_input,Fifth_input, Sixth_input],[Total_input,Square_input, Cube_input, Quad_input, Fifth_input, Sixth_input, Seventh_input],[Square_input, Cube_input, Quad_input,Fifth_input, Sixth_input, Seventh_input, Eighth_input], [Cube_input, Quad_input, Fifth_input, Sixth_input, Seventh_input, Eighth_input, Ninth_input],[Quad_input, Fifth_input, Sixth_input, Seventh_input, Eighth_input, Ninth_input, Tenth_input],  [Fifth_input, Sixth_input, Seventh_input, Eighth_input, Ninth_input, Tenth_input, Eleventh_input], [Sixth_input, Seventh_input, Eighth_input, Ninth_input, Tenth_input, Eleventh_input, Twelve_input]]\n",
    "print(A_Matrix)"
   ]
  },
  {
   "cell_type": "code",
   "execution_count": 22,
   "id": "6737d588",
   "metadata": {},
   "outputs": [
    {
     "name": "stdout",
     "output_type": "stream",
     "text": [
      "[[ 1.50020186e-01 -1.14815983e+00  2.74173038e+00 -2.90801952e+00\n",
      "   1.52631465e+00 -3.88350497e-01  3.82264167e-02]\n",
      " [-1.14815983e+00  1.21450108e+01 -3.29920691e+01  3.75265879e+01\n",
      "  -2.05815782e+01  5.39743953e+00 -5.43143220e-01]\n",
      " [ 2.74173038e+00 -3.29920691e+01  9.59189815e+01 -1.13829995e+02\n",
      "   6.42741050e+01 -1.72173301e+01  1.76083979e+00]\n",
      " [-2.90801952e+00  3.75265879e+01 -1.13829995e+02  1.39050972e+02\n",
      "  -8.01865913e+01  2.18272182e+01 -2.26067478e+00]\n",
      " [ 1.52631465e+00 -2.05815782e+01  6.42741050e+01 -8.01865913e+01\n",
      "   4.69875378e+01 -1.29523849e+01  1.35521520e+00]\n",
      " [-3.88350497e-01  5.39743953e+00 -1.72173301e+01  2.18272182e+01\n",
      "  -1.29523849e+01  3.60688205e+00 -3.80566893e-01]\n",
      " [ 3.82264167e-02 -5.43143220e-01  1.76083979e+00 -2.26067478e+00\n",
      "   1.35521520e+00 -3.80566893e-01  4.04373940e-02]]\n"
     ]
    }
   ],
   "source": [
    "A_Inverse = np.linalg.inv(A_Matrix)\n",
    "print(A_Inverse)"
   ]
  },
  {
   "cell_type": "code",
   "execution_count": 23,
   "id": "44a459fe",
   "metadata": {},
   "outputs": [
    {
     "data": {
      "text/plain": [
       "(1.3908700000000231,\n",
       " -126.64142949999993,\n",
       " -378.875689549,\n",
       " -952.3241035314702,\n",
       " -2308.9705341355334,\n",
       " -5575.006366816261,\n",
       " 39086.488410584454)"
      ]
     },
     "execution_count": 23,
     "metadata": {},
     "output_type": "execute_result"
    }
   ],
   "source": [
    "Total_output=sum(np.array(output))\n",
    "Product_Output=np.sum(np.dot(output_array,input_array))\n",
    "Square_Product_output = np.sum(output_array * (input_array ** 2)) \n",
    "Cube_Product_output = np.sum(output_array * (input_array ** 3)) \n",
    "Quad_Product_output =  np.sum(output_array * (input_array ** 4)) \n",
    "Fifth_Product_output =  np.sum(output_array * (input_array ** 5)) \n",
    "Sixth_Product_output =  np.sum(output_array * (input_array ** 6)) \n",
    "Total_output, Product_Output, Square_Product_output, Cube_Product_output, Quad_Product_output, Fifth_Product_output, Sixth_input"
   ]
  },
  {
   "cell_type": "code",
   "execution_count": 24,
   "id": "3b4b3b8d",
   "metadata": {},
   "outputs": [
    {
     "data": {
      "text/plain": [
       "[[1.3908700000000231],\n",
       " [-126.64142949999993],\n",
       " [-378.875689549],\n",
       " [-952.3241035314702],\n",
       " [-2308.9705341355334],\n",
       " [-5575.006366816261],\n",
       " [-13529.015890135399]]"
      ]
     },
     "execution_count": 24,
     "metadata": {},
     "output_type": "execute_result"
    }
   ],
   "source": [
    "B_Matrix = [[Total_output],[Product_Output], [Square_Product_output], [Cube_Product_output], [Quad_Product_output], [Fifth_Product_output], [Sixth_Product_output]]\n",
    "B_Matrix"
   ]
  },
  {
   "cell_type": "code",
   "execution_count": 25,
   "id": "01511293",
   "metadata": {},
   "outputs": [
    {
     "data": {
      "text/plain": [
       "array([[-0.10950798],\n",
       "       [ 2.45140374],\n",
       "       [ 0.93421859],\n",
       "       [-4.33882426],\n",
       "       [ 2.39119504],\n",
       "       [-0.45756126],\n",
       "       [ 0.02603312]])"
      ]
     },
     "execution_count": 25,
     "metadata": {},
     "output_type": "execute_result"
    }
   ],
   "source": [
    "Unknown = np.dot(A_Inverse,B_Matrix)\n",
    "Unknown"
   ]
  },
  {
   "cell_type": "code",
   "execution_count": 26,
   "id": "151454c0",
   "metadata": {},
   "outputs": [
    {
     "data": {
      "text/plain": [
       "0     -0.084905\n",
       "1     -0.060141\n",
       "2     -0.035240\n",
       "3     -0.010229\n",
       "4      0.014870\n",
       "         ...   \n",
       "278    0.134716\n",
       "279    0.165395\n",
       "280    0.180179\n",
       "281    0.194566\n",
       "282    0.208538\n",
       "Name: X, Length: 283, dtype: float64"
      ]
     },
     "execution_count": 26,
     "metadata": {},
     "output_type": "execute_result"
    }
   ],
   "source": [
    "Prediction = Unknown[0] + Unknown[1] * Traindata['X'] + Unknown[2] * (Traindata['X']**2) + Unknown[3] * (Traindata['X']**3)  + Unknown[4] * (Traindata['X']**4) +  Unknown[5] * (Traindata['X']**5) ++  Unknown[6] * (Traindata['X']**6)\n",
    "Prediction"
   ]
  },
  {
   "cell_type": "code",
   "execution_count": 27,
   "id": "06d8fd12",
   "metadata": {},
   "outputs": [
    {
     "name": "stdout",
     "output_type": "stream",
     "text": [
      "0.038491689949572735\n"
     ]
    }
   ],
   "source": [
    "MSE_training=(1/Length_Train)* np.sum((Prediction-Traindata[\"R\"])**2)\n",
    "print(MSE_training)"
   ]
  },
  {
   "cell_type": "code",
   "execution_count": 28,
   "id": "b0f1e118",
   "metadata": {},
   "outputs": [
    {
     "data": {
      "image/png": "[encoded data removed]",
      "text/plain": [
       "<Figure size 640x480 with 1 Axes>"
      ]
     },
     "metadata": {},
     "output_type": "display_data"
    }
   ],
   "source": [
    "plt.scatter(Traindata['X'], Traindata['R'],color = 'green' ,label='Example Points')\n",
    "plt.plot(Traindata[\"X\"], Prediction, color='red', label='Regression line')\n",
    "plt.plot(Traindata['X'],Traindata['R'],'*')\n",
    "\n",
    "plt.xlabel('X')\n",
    "plt.ylabel('R')\n",
    "plt.legend()\n",
    "plt.title('6th Degree Degree Regression for Training Data')\n",
    "plt.show()"
   ]
  },
  {
   "cell_type": "code",
   "execution_count": 29,
   "id": "80e798ad",
   "metadata": {},
   "outputs": [
    {
     "name": "stdout",
     "output_type": "stream",
     "text": [
      "0    -0.109508\n",
      "1     0.140870\n",
      "2     0.387112\n",
      "3     0.611120\n",
      "4     0.799480\n",
      "5     0.942953\n",
      "6     1.036000\n",
      "7     1.076311\n",
      "8     1.064361\n",
      "9     1.002982\n",
      "10    0.896957\n",
      "11    0.752626\n",
      "12    0.577521\n",
      "13    0.380005\n",
      "14    0.168950\n",
      "15   -0.046590\n",
      "16   -0.257665\n",
      "17   -0.455713\n",
      "18   -0.632814\n",
      "19   -0.781934\n",
      "20   -0.897141\n",
      "21   -0.973812\n",
      "22   -1.008816\n",
      "23   -1.000674\n",
      "24   -0.949711\n",
      "25   -0.858181\n",
      "26   -0.730376\n",
      "27   -0.572712\n",
      "28   -0.393808\n",
      "29   -0.204530\n",
      "30   -0.018032\n",
      "31    0.150235\n",
      "Name: X, dtype: float64\n"
     ]
    }
   ],
   "source": [
    "Prediction_Test = Unknown[0] + (Unknown[1] * Testdata['X']) + (Unknown[2] * (Testdata['X']**2)) + (Unknown[3] * (Testdata['X']**3))  + (Unknown[4] * (Testdata['X']**4)) +  (Unknown[5] * (Testdata['X']**5)) + (Unknown[6] * (Testdata['X']**6))\n",
    "print(Prediction_Test)"
   ]
  },
  {
   "cell_type": "code",
   "execution_count": 30,
   "id": "cc58d406",
   "metadata": {},
   "outputs": [
    {
     "name": "stdout",
     "output_type": "stream",
     "text": [
      "0.04474917912124442\n"
     ]
    }
   ],
   "source": [
    "MSE_Testing=(1/Length_Test)* np.sum((Prediction_Test -  Testdata[\"R\"])**2)\n",
    "print(MSE_Testing)"
   ]
  },
  {
   "cell_type": "code",
   "execution_count": 31,
   "id": "92073e12",
   "metadata": {},
   "outputs": [
    {
     "data": {
      "image/png": "[encoded data removed]",
      "text/plain": [
       "<Figure size 640x480 with 1 Axes>"
      ]
     },
     "metadata": {},
     "output_type": "display_data"
    }
   ],
   "source": [
    "plt.plot(Testdata['X'], Testdata['R'],color = 'green', label='Example points')\n",
    "\n",
    "# Plot the regression line\n",
    "plt.plot(Testdata[\"X\"], Prediction_Test, color='red', label='Regression line')\n",
    "\n",
    "plt.xlabel('X')\n",
    "plt.ylabel('R')\n",
    "plt.legend()\n",
    "plt.title('Sixth Degree Regression for testing Data')\n",
    "plt.show()"
   ]
  },
  {
   "cell_type": "code",
   "execution_count": 32,
   "id": "2334a1a2",
   "metadata": {},
   "outputs": [
    {
     "name": "stdout",
     "output_type": "stream",
     "text": [
      "MSE for Training data for Sixth Degree is:     0.038491689949572735\n",
      "MSE for Testing data for Sixth Degree is:       0.04474917912124442\n"
     ]
    }
   ],
   "source": [
    "print(\"MSE for Training data for Sixth Degree is:    \", MSE_training)\n",
    "print(\"MSE for Testing data for Sixth Degree is:      \", MSE_Testing)"
   ]
  },
  {
   "cell_type": "code",
   "execution_count": null,
   "id": "74c86795",
   "metadata": {},
   "outputs": [],
   "source": [
    "By observing mean square error(MSE) on training data and testing data, we concluded that model performs better on training data as MSE of training data is lesser than Testing data."
   ]
  }
 ],
 "metadata": {
  "kernelspec": {
   "display_name": "Python 3 (ipykernel)",
   "language": "python",
   "name": "python3"
  },
  "language_info": {
   "codemirror_mode": {
    "name": "ipython",
    "version": 3
   },
   "file_extension": ".py",
   "mimetype": "text/x-python",
   "name": "python",
   "nbconvert_exporter": "python",
   "pygments_lexer": "ipython3",
   "version": "3.11.5"
  }
 },
 "nbformat": 4,
 "nbformat_minor": 5
}
